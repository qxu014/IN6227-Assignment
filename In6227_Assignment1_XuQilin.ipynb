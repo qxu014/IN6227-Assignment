{
 "cells": [
  {
   "cell_type": "markdown",
   "id": "4428b2ed",
   "metadata": {},
   "source": [
    "# Data Preprocessing"
   ]
  },
  {
   "cell_type": "code",
   "execution_count": 16,
   "id": "6429b3e5",
   "metadata": {},
   "outputs": [
    {
     "name": "stdout",
     "output_type": "stream",
     "text": [
      "(32561, 15)\n",
      "(16281, 15)\n"
     ]
    },
    {
     "data": {
      "text/html": [
       "<div>\n",
       "<style scoped>\n",
       "    .dataframe tbody tr th:only-of-type {\n",
       "        vertical-align: middle;\n",
       "    }\n",
       "\n",
       "    .dataframe tbody tr th {\n",
       "        vertical-align: top;\n",
       "    }\n",
       "\n",
       "    .dataframe thead th {\n",
       "        text-align: right;\n",
       "    }\n",
       "</style>\n",
       "<table border=\"1\" class=\"dataframe\">\n",
       "  <thead>\n",
       "    <tr style=\"text-align: right;\">\n",
       "      <th></th>\n",
       "      <th>age</th>\n",
       "      <th>workclass</th>\n",
       "      <th>fnlwgt</th>\n",
       "      <th>education-num</th>\n",
       "      <th>marital-status</th>\n",
       "      <th>occupation</th>\n",
       "      <th>relationship</th>\n",
       "      <th>race</th>\n",
       "      <th>sex</th>\n",
       "      <th>capital-gain</th>\n",
       "      <th>capital-loss</th>\n",
       "      <th>hours-per-week</th>\n",
       "      <th>native-country</th>\n",
       "      <th>income</th>\n",
       "    </tr>\n",
       "  </thead>\n",
       "  <tbody>\n",
       "    <tr>\n",
       "      <th>0</th>\n",
       "      <td>39</td>\n",
       "      <td>State-gov</td>\n",
       "      <td>77516</td>\n",
       "      <td>13</td>\n",
       "      <td>Never-married</td>\n",
       "      <td>Adm-clerical</td>\n",
       "      <td>Not-in-family</td>\n",
       "      <td>White</td>\n",
       "      <td>Male</td>\n",
       "      <td>2174</td>\n",
       "      <td>0</td>\n",
       "      <td>40</td>\n",
       "      <td>United-States</td>\n",
       "      <td>&lt;=50K</td>\n",
       "    </tr>\n",
       "    <tr>\n",
       "      <th>1</th>\n",
       "      <td>50</td>\n",
       "      <td>Self-emp-not-inc</td>\n",
       "      <td>83311</td>\n",
       "      <td>13</td>\n",
       "      <td>Married-civ-spouse</td>\n",
       "      <td>Exec-managerial</td>\n",
       "      <td>Husband</td>\n",
       "      <td>White</td>\n",
       "      <td>Male</td>\n",
       "      <td>0</td>\n",
       "      <td>0</td>\n",
       "      <td>13</td>\n",
       "      <td>United-States</td>\n",
       "      <td>&lt;=50K</td>\n",
       "    </tr>\n",
       "    <tr>\n",
       "      <th>2</th>\n",
       "      <td>38</td>\n",
       "      <td>Private</td>\n",
       "      <td>215646</td>\n",
       "      <td>9</td>\n",
       "      <td>Divorced</td>\n",
       "      <td>Handlers-cleaners</td>\n",
       "      <td>Not-in-family</td>\n",
       "      <td>White</td>\n",
       "      <td>Male</td>\n",
       "      <td>0</td>\n",
       "      <td>0</td>\n",
       "      <td>40</td>\n",
       "      <td>United-States</td>\n",
       "      <td>&lt;=50K</td>\n",
       "    </tr>\n",
       "    <tr>\n",
       "      <th>3</th>\n",
       "      <td>53</td>\n",
       "      <td>Private</td>\n",
       "      <td>234721</td>\n",
       "      <td>7</td>\n",
       "      <td>Married-civ-spouse</td>\n",
       "      <td>Handlers-cleaners</td>\n",
       "      <td>Husband</td>\n",
       "      <td>Black</td>\n",
       "      <td>Male</td>\n",
       "      <td>0</td>\n",
       "      <td>0</td>\n",
       "      <td>40</td>\n",
       "      <td>United-States</td>\n",
       "      <td>&lt;=50K</td>\n",
       "    </tr>\n",
       "    <tr>\n",
       "      <th>4</th>\n",
       "      <td>28</td>\n",
       "      <td>Private</td>\n",
       "      <td>338409</td>\n",
       "      <td>13</td>\n",
       "      <td>Married-civ-spouse</td>\n",
       "      <td>Prof-specialty</td>\n",
       "      <td>Wife</td>\n",
       "      <td>Black</td>\n",
       "      <td>Female</td>\n",
       "      <td>0</td>\n",
       "      <td>0</td>\n",
       "      <td>40</td>\n",
       "      <td>Cuba</td>\n",
       "      <td>&lt;=50K</td>\n",
       "    </tr>\n",
       "  </tbody>\n",
       "</table>\n",
       "</div>"
      ],
      "text/plain": [
       "   age          workclass  fnlwgt  education-num       marital-status  \\\n",
       "0   39          State-gov   77516             13        Never-married   \n",
       "1   50   Self-emp-not-inc   83311             13   Married-civ-spouse   \n",
       "2   38            Private  215646              9             Divorced   \n",
       "3   53            Private  234721              7   Married-civ-spouse   \n",
       "4   28            Private  338409             13   Married-civ-spouse   \n",
       "\n",
       "           occupation    relationship    race      sex  capital-gain  \\\n",
       "0        Adm-clerical   Not-in-family   White     Male          2174   \n",
       "1     Exec-managerial         Husband   White     Male             0   \n",
       "2   Handlers-cleaners   Not-in-family   White     Male             0   \n",
       "3   Handlers-cleaners         Husband   Black     Male             0   \n",
       "4      Prof-specialty            Wife   Black   Female             0   \n",
       "\n",
       "   capital-loss  hours-per-week  native-country  income  \n",
       "0             0              40   United-States   <=50K  \n",
       "1             0              13   United-States   <=50K  \n",
       "2             0              40   United-States   <=50K  \n",
       "3             0              40   United-States   <=50K  \n",
       "4             0              40            Cuba   <=50K  "
      ]
     },
     "execution_count": 16,
     "metadata": {},
     "output_type": "execute_result"
    }
   ],
   "source": [
    "# Load dataset\n",
    "import pandas as pd\n",
    "attribute=['age', 'workclass', 'fnlwgt', 'education', 'education-num', 'marital-status', 'occupation', 'relationship', \n",
    "             'race','sex','capital-gain','capital-loss','hours-per-week','native-country','income']\n",
    "train=pd.read_csv('adult.data.csv', names=attribute, header=None, na_values=' ?')\n",
    "test=pd.read_csv('adult.test.csv', names=attribute, header=None, na_values=' ?')\n",
    "\n",
    "print(train.shape)\n",
    "print(test.shape)\n",
    "\n",
    "# Drop education attributes\n",
    "train=train.drop(columns=['education'])\n",
    "test=test.drop(columns=['education'])\n",
    "train.head(5)"
   ]
  },
  {
   "cell_type": "code",
   "execution_count": 17,
   "id": "00e8c4d9",
   "metadata": {},
   "outputs": [],
   "source": [
    "# Replace missing values with most frequent values of a column\n",
    "import numpy as np\n",
    "from sklearn.impute import SimpleImputer\n",
    "\n",
    "imp=SimpleImputer(strategy='most_frequent')\n",
    "train1=imp.fit_transform(train)\n",
    "test1=imp.fit_transform(test)\n",
    "\n",
    "new_attributes=['age', 'workclass', 'fnlwgt', 'education-num', 'marital-status', 'occupation', 'relationship', \n",
    "               'race','sex','capital-gain','capital-loss','hours-per-week','native-country','income']\n",
    "\n",
    "train1=pd.DataFrame(train1,columns=new_attributes)\n",
    "test1=pd.DataFrame(test1,columns=new_attributes)"
   ]
  },
  {
   "cell_type": "code",
   "execution_count": 18,
   "id": "1298011c",
   "metadata": {},
   "outputs": [],
   "source": [
    "# Convert categorical variables to numeric variables\n",
    "from sklearn.preprocessing import LabelEncoder\n",
    "\n",
    "encoder=LabelEncoder()\n",
    "train1['workclass'] = encoder.fit_transform(train1['workclass'])\n",
    "train1['marital-status'] = encoder.fit_transform(train1['marital-status'])\n",
    "train1['occupation'] = encoder.fit_transform(train1['occupation'])\n",
    "train1['relationship'] = encoder.fit_transform(train1['relationship'])\n",
    "train1['race'] = encoder.fit_transform(train1['race'])\n",
    "train1['sex'] = encoder.fit_transform(train1['sex'])\n",
    "train1['native-country'] = encoder.fit_transform(train1['native-country'])\n",
    "train1['income'] = encoder.fit_transform(train1['income'])\n",
    "\n",
    "test1['workclass'] = encoder.fit_transform(test1['workclass'])\n",
    "test1['marital-status'] = encoder.fit_transform(test1['marital-status'])\n",
    "test1['occupation'] = encoder.fit_transform(test1['occupation'])\n",
    "test1['relationship'] = encoder.fit_transform(test1['relationship'])\n",
    "test1['race'] = encoder.fit_transform(test1['race'])\n",
    "test1['sex'] = encoder.fit_transform(test1['sex'])\n",
    "test1['native-country'] = encoder.fit_transform(test1['native-country'])\n",
    "test1['income'] = encoder.fit_transform(test1['income'])"
   ]
  },
  {
   "cell_type": "code",
   "execution_count": 19,
   "id": "1cfcd41e",
   "metadata": {},
   "outputs": [],
   "source": [
    "# Define the X and Y attributes before building model\n",
    "X_train=train1.drop(columns=['income']) \n",
    "y_train=train1['income']\n",
    "X_test=test1.drop(columns=['income']) \n",
    "y_test=test1['income']"
   ]
  },
  {
   "cell_type": "markdown",
   "id": "64ebc7e9",
   "metadata": {},
   "source": [
    "# Decision Tree"
   ]
  },
  {
   "cell_type": "code",
   "execution_count": 25,
   "id": "5ed15013",
   "metadata": {},
   "outputs": [
    {
     "name": "stdout",
     "output_type": "stream",
     "text": [
      "Time taken to find the stopping node 1.1600861549377441\n",
      "7\n",
      "0.8568\n"
     ]
    }
   ],
   "source": [
    "# Decision tree classifier\n",
    "from sklearn.tree import DecisionTreeClassifier\n",
    "from sklearn import metrics\n",
    "from sklearn.metrics import accuracy_score\n",
    "from sklearn.metrics import confusion_matrix\n",
    "from sklearn.metrics import classification_report\n",
    "import time\n",
    "\n",
    "# Determine when to stop splitting the tree\n",
    "start=time.time()\n",
    "S = []\n",
    "for i in range(1,15):\n",
    "    clf = DecisionTreeClassifier(max_depth=i)\n",
    "    clf.fit(X_train,y_train)\n",
    "    y_pred = clf.predict(X_test)\n",
    "    S.append(round(accuracy_score(y_test,y_pred),4))\n",
    "\n",
    "finish=time.time()\n",
    "print(\"Time taken to find the stopping node\", finish-start)\n",
    "print(S.index(max(S))+1)\n",
    "print(max(S))"
   ]
  },
  {
   "cell_type": "code",
   "execution_count": 26,
   "id": "f0a17d64",
   "metadata": {},
   "outputs": [
    {
     "name": "stdout",
     "output_type": "stream",
     "text": [
      "Time taken to train the model 0.10706424713134766\n",
      "Accuracy: 0.8568883975185799\n",
      "[[11902   533]\n",
      " [ 1797  2049]]\n",
      "              precision    recall  f1-score   support\n",
      "\n",
      "           0       0.87      0.96      0.91     12435\n",
      "           1       0.79      0.53      0.64      3846\n",
      "\n",
      "    accuracy                           0.86     16281\n",
      "   macro avg       0.83      0.74      0.77     16281\n",
      "weighted avg       0.85      0.86      0.85     16281\n",
      "\n"
     ]
    }
   ],
   "source": [
    "# Train the decision tree classification model using gini\n",
    "start=time.time()\n",
    "clf1=DecisionTreeClassifier(criterion=\"gini\",max_depth=7)\n",
    "clf1=clf1.fit(X_train,y_train)\n",
    "finish=time.time()\n",
    "y_pred1=clf1.predict(X_test)\n",
    "\n",
    "accuracy1=metrics.accuracy_score(y_test, y_pred1)\n",
    "confusion_matrix1=confusion_matrix(y_test,y_pred1)\n",
    "\n",
    "print(\"Time taken to train the model\", finish-start)\n",
    "print(\"Accuracy:\",accuracy1)\n",
    "print(confusion_matrix1)\n",
    "print(classification_report(y_test,y_pred1))"
   ]
  },
  {
   "cell_type": "code",
   "execution_count": 30,
   "id": "91d2ad9e",
   "metadata": {},
   "outputs": [
    {
     "name": "stdout",
     "output_type": "stream",
     "text": [
      "Time taken to train the model 0.11969280242919922\n",
      "Accuracy: 0.8543087033965973\n",
      "[[11815   620]\n",
      " [ 1752  2094]]\n",
      "              precision    recall  f1-score   support\n",
      "\n",
      "           0       0.87      0.95      0.91     12435\n",
      "           1       0.77      0.54      0.64      3846\n",
      "\n",
      "    accuracy                           0.85     16281\n",
      "   macro avg       0.82      0.75      0.77     16281\n",
      "weighted avg       0.85      0.85      0.84     16281\n",
      "\n"
     ]
    }
   ],
   "source": [
    "# Train the decision tree classification model using entropy\n",
    "\n",
    "start=time.time()\n",
    "clf2=DecisionTreeClassifier(criterion=\"entropy\",max_depth=7)\n",
    "clf2=clf2.fit(X_train,y_train)\n",
    "finish=time.time()\n",
    "y_pred2=clf2.predict(X_test)\n",
    "\n",
    "accuracy2=metrics.accuracy_score(y_test, y_pred2)\n",
    "confusion_matrix2=confusion_matrix(y_test,y_pred2)\n",
    "\n",
    "print(\"Time taken to train the model\", finish-start)\n",
    "print(\"Accuracy:\",accuracy2)\n",
    "print(confusion_matrix2)\n",
    "print(classification_report(y_test,y_pred2))"
   ]
  },
  {
   "cell_type": "code",
   "execution_count": 31,
   "id": "f910d8c0",
   "metadata": {},
   "outputs": [
    {
     "name": "stdout",
     "output_type": "stream",
     "text": [
      "0.8515093286274213 0.8622674664097385\n"
     ]
    }
   ],
   "source": [
    "# Compute confidence interval for the accuracy\n",
    "import scipy.stats\n",
    "\n",
    "confidence=0.95\n",
    "z_value=scipy.stats.norm.ppf((1+confidence)/2.0)\n",
    "accuracy=max(accuracy1,accuracy2)\n",
    "ci_length=z_value*np.sqrt((accuracy*(1-accuracy))/y_test.shape[0])\n",
    "ci_lower=accuracy-ci_length\n",
    "ci_upper=accuracy+ci_length\n",
    "\n",
    "print(ci_lower, ci_upper)"
   ]
  },
  {
   "cell_type": "markdown",
   "id": "b8efd37c",
   "metadata": {},
   "source": [
    "# Nearest Neighbor"
   ]
  },
  {
   "cell_type": "code",
   "execution_count": 32,
   "id": "94c7e81f",
   "metadata": {},
   "outputs": [],
   "source": [
    "# Do normalization to scale the X attributes in both training and test data\n",
    "from sklearn.preprocessing import StandardScaler\n",
    "scaler=StandardScaler()\n",
    "X_train1=scaler.fit_transform(X_train)\n",
    "X_test1=scaler.transform(X_test)"
   ]
  },
  {
   "cell_type": "code",
   "execution_count": 33,
   "id": "d446e87c",
   "metadata": {},
   "outputs": [
    {
     "name": "stdout",
     "output_type": "stream",
     "text": [
      "The optimal k value is 15\n",
      "Time taken to find optimal k is 28.205368995666504\n"
     ]
    },
    {
     "data": {
      "image/png": "[encoded data removed]",
      "text/plain": [
       "<Figure size 640x480 with 1 Axes>"
      ]
     },
     "metadata": {},
     "output_type": "display_data"
    }
   ],
   "source": [
    "# Decision tree classifier\n",
    "from sklearn.neighbors import KNeighborsClassifier\n",
    "from sklearn.model_selection import cross_val_score\n",
    "from sklearn import metrics\n",
    "from sklearn.metrics import accuracy_score\n",
    "from sklearn.metrics import confusion_matrix\n",
    "from sklearn.metrics import classification_report\n",
    "import matplotlib.pyplot as plt\n",
    "from warnings import simplefilter\n",
    "simplefilter(action='ignore', category=FutureWarning)\n",
    "import time\n",
    "\n",
    "# Determine the optimal k value\n",
    "start=time.time()\n",
    "k_values=[i for i in range(1,20,2)]\n",
    "k_scores=[]\n",
    "for k in k_values:\n",
    "    knn=KNeighborsClassifier(n_neighbors=k, n_jobs=-1)\n",
    "    cv_scores=cross_val_score(knn, X_train1, y_train, cv=5, scoring='accuracy')\n",
    "    k_scores.append(cv_scores.mean())\n",
    "    \n",
    "finish=time.time()\n",
    "optimal=k_values[k_scores.index(max(k_scores))]\n",
    "print('The optimal k value is {}'.format(optimal))\n",
    "print(\"Time taken to find optimal k is\", finish-start)\n",
    "plt.plot(k_values, k_scores)\n",
    "plt.xlabel('Number of neighbors')\n",
    "plt.ylabel('Accuracy')\n",
    "plt.show()"
   ]
  },
  {
   "cell_type": "code",
   "execution_count": 34,
   "id": "0339d67c",
   "metadata": {},
   "outputs": [
    {
     "name": "stdout",
     "output_type": "stream",
     "text": [
      "Time taken to train the model 0.06098484992980957\n",
      "Accuracy: 0.8379092193354216\n",
      "[[11432  1003]\n",
      " [ 1636  2210]]\n",
      "              precision    recall  f1-score   support\n",
      "\n",
      "           0       0.87      0.92      0.90     12435\n",
      "           1       0.69      0.57      0.63      3846\n",
      "\n",
      "    accuracy                           0.84     16281\n",
      "   macro avg       0.78      0.75      0.76     16281\n",
      "weighted avg       0.83      0.84      0.83     16281\n",
      "\n"
     ]
    }
   ],
   "source": [
    "# Train the nearest-neighbor classification using euclidean distance\n",
    "\n",
    "start=time.time()\n",
    "knn1=KNeighborsClassifier(n_neighbors=15,metric='euclidean', weights='distance')\n",
    "knn1=knn1.fit(X_train1,y_train)\n",
    "finish=time.time()\n",
    "y_pred1=knn1.predict(X_test1)\n",
    "\n",
    "accuracy1=metrics.accuracy_score(y_test, y_pred1)\n",
    "confusion_matrix1=confusion_matrix(y_test,y_pred1)\n",
    "\n",
    "print(\"Time taken to train the model\", finish-start)\n",
    "print(\"Accuracy:\",accuracy1)\n",
    "print(confusion_matrix1)\n",
    "print(classification_report(y_test,y_pred1))"
   ]
  },
  {
   "cell_type": "code",
   "execution_count": 35,
   "id": "311e1e8a",
   "metadata": {},
   "outputs": [
    {
     "name": "stdout",
     "output_type": "stream",
     "text": [
      "Time taken to train the model 0.06085085868835449\n",
      "Accuracy: 0.841041705054972\n",
      "[[11478   957]\n",
      " [ 1631  2215]]\n",
      "              precision    recall  f1-score   support\n",
      "\n",
      "           0       0.88      0.92      0.90     12435\n",
      "           1       0.70      0.58      0.63      3846\n",
      "\n",
      "    accuracy                           0.84     16281\n",
      "   macro avg       0.79      0.75      0.76     16281\n",
      "weighted avg       0.83      0.84      0.84     16281\n",
      "\n"
     ]
    }
   ],
   "source": [
    "# Train the nearest-neighbor classification using manhattan distance\n",
    "start=time.time()\n",
    "knn2=KNeighborsClassifier(n_neighbors=15,metric='manhattan', weights='distance')\n",
    "knn2=knn2.fit(X_train1,y_train)\n",
    "finish=time.time()\n",
    "y_pred2=knn2.predict(X_test1)\n",
    "\n",
    "accuracy2=metrics.accuracy_score(y_test, y_pred2)\n",
    "confusion_matrix2=confusion_matrix(y_test,y_pred2)\n",
    "\n",
    "print(\"Time taken to train the model\", finish-start)\n",
    "print(\"Accuracy:\",accuracy2)\n",
    "print(confusion_matrix2)\n",
    "print(classification_report(y_test,y_pred2))"
   ]
  },
  {
   "cell_type": "code",
   "execution_count": 36,
   "id": "b7cfdbd4",
   "metadata": {},
   "outputs": [
    {
     "name": "stdout",
     "output_type": "stream",
     "text": [
      "0.8354253065296028 0.8466581035803412\n"
     ]
    }
   ],
   "source": [
    "# Compute confidence interval for the accuracy\n",
    "import scipy.stats\n",
    "\n",
    "confidence=0.95\n",
    "z_value=scipy.stats.norm.ppf((1+confidence)/2.0)\n",
    "accuracy=max(accuracy1,accuracy2)\n",
    "ci_length=z_value*np.sqrt((accuracy*(1-accuracy))/y_test.shape[0])\n",
    "ci_lower=accuracy-ci_length\n",
    "ci_upper=accuracy+ci_length\n",
    "\n",
    "print(ci_lower, ci_upper)"
   ]
  },
  {
   "cell_type": "markdown",
   "id": "3ef9e36c",
   "metadata": {},
   "source": [
    "# Compare performance"
   ]
  },
  {
   "cell_type": "code",
   "execution_count": 37,
   "id": "e860db08",
   "metadata": {},
   "outputs": [
    {
     "name": "stdout",
     "output_type": "stream",
     "text": [
      "0.001862125705336587 0.017547001498152165\n"
     ]
    }
   ],
   "source": [
    "# Compare the performance of 2 models\n",
    "n1=n2=16281\n",
    "e1=(533+1897)/16281\n",
    "e2=(957+1631)/16281\n",
    "\n",
    "d=abs(e1-e2)\n",
    "\n",
    "sigma2=((e1*(1-e1))/n1)+((e2*(1-e2))/n2)\n",
    "confidence=0.95\n",
    "z_value=scipy.stats.norm.ppf((1+confidence)/2.0)\n",
    "ci_length=z_value*np.sqrt(sigma2)\n",
    "ci_lower=d-ci_length\n",
    "ci_upper=d+ci_length\n",
    "\n",
    "print(ci_lower, ci_upper)"
   ]
  },
  {
   "cell_type": "code",
   "execution_count": null,
   "id": "ac04d2eb",
   "metadata": {},
   "outputs": [],
   "source": []
  }
 ],
 "metadata": {
  "kernelspec": {
   "display_name": "Python 3 (ipykernel)",
   "language": "python",
   "name": "python3"
  },
  "language_info": {
   "codemirror_mode": {
    "name": "ipython",
    "version": 3
   },
   "file_extension": ".py",
   "mimetype": "text/x-python",
   "name": "python",
   "nbconvert_exporter": "python",
   "pygments_lexer": "ipython3",
   "version": "3.9.13"
  }
 },
 "nbformat": 4,
 "nbformat_minor": 5
}
